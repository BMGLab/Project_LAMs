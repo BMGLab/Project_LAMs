{
 "cells": [
  {
   "cell_type": "code",
   "execution_count": null,
   "metadata": {
    "vscode": {
     "languageId": "plaintext"
    }
   },
   "outputs": [],
   "source": [
    "import scanpy as sc\n",
    "adata = sc.read_h5ad('data/LucaExtended_downloaded.06-21-2024.h5ad')\n",
    "\n",
    "# Count unique samples\n",
    "n_samples = adata.obs['sample'].nunique()\n",
    "\n",
    "# Count unique donors\n",
    "n_donors = adata.obs['donor_id'].nunique()\n",
    "\n",
    "print(f\"Number of unique samples: {n_samples}\")\n",
    "print(f\"Number of unique donors: {n_donors}\")\n"
   ]
  },
  {
   "cell_type": "code",
   "execution_count": null,
   "metadata": {
    "vscode": {
     "languageId": "plaintext"
    }
   },
   "outputs": [],
   "source": [
    "disease_categories = [\n",
    "    'chronic obstructive pulmonary disease',\n",
    "    'lung adenocarcinoma',\n",
    "    'squamous cell lung carcinoma',\n",
    "    'non-small cell lung carcinoma',\n",
    "    'normal'\n",
    "]\n"
   ]
  },
  {
   "cell_type": "code",
   "execution_count": null,
   "metadata": {
    "vscode": {
     "languageId": "plaintext"
    }
   },
   "outputs": [],
   "source": [
    "import pandas as pd\n",
    "\n",
    "# Filter to relevant disease categories\n",
    "adata_filtered = adata[adata.obs['disease'].isin(disease_categories)]\n",
    "\n",
    "# Group by disease and aggregate unique counts\n",
    "result = (\n",
    "    adata_filtered.obs\n",
    "    .groupby('disease')\n",
    "    .agg(\n",
    "        unique_samples=('sample', pd.Series.nunique),\n",
    "        unique_donors=('donor_id', pd.Series.nunique)\n",
    "    )\n",
    "    .reindex(disease_categories)  # to keep the original order\n",
    ")\n",
    "\n",
    "print(result)\n"
   ]
  }
 ],
 "metadata": {
  "language_info": {
   "name": "python"
  }
 },
 "nbformat": 4,
 "nbformat_minor": 2
}
