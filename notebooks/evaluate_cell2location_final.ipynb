{
 "cells": [
  {
   "cell_type": "code",
   "execution_count": 1,
   "id": "bdf23d36-e3b8-4877-9a38-5718f486dd51",
   "metadata": {},
   "outputs": [],
   "source": [
    "import scanpy as sc\n",
    "import matplotlib.pyplot as plt\n",
    "import seaborn as sns\n",
    "import pandas as pd\n",
    "import numpy as np\n",
    "import os"
   ]
  },
  {
   "cell_type": "markdown",
   "id": "abf43de5-fdc4-4bf5-97dd-85fdad2eb2b4",
   "metadata": {},
   "source": [
    "# Task 1 - All spots and All cell types as input\n",
    "1. Run the jupyter notebook: run_cell2location\n",
    "2. Evaluating the results"
   ]
  },
  {
   "cell_type": "code",
   "execution_count": 2,
   "id": "33db8e8a-8d05-4af3-bf12-60545e297e9a",
   "metadata": {},
   "outputs": [],
   "source": [
    "ids = {'spaceranger110_count_38385_OTAR_LNGsp10206160_GRCh38-2020-A': 'P17_T2',\n",
    " 'spaceranger110_count_36209_OTAR_LNGsp9476038_GRCh38-2020-A': 'P10_T1',\n",
    " 'spaceranger110_count_39586_OTAR_LNGsp10391238_GRCh38-2020-A': 'P24_T2',\n",
    " 'spaceranger110_count_40612_OTAR_LNGsp10782313_GRCh38-2020-A': 'P19_B2',\n",
    " 'spaceranger110_count_39586_OTAR_LNGsp10391237_GRCh38-2020-A': 'P24_T1',\n",
    " 'spaceranger110_count_36209_OTAR_LNGsp9476039_GRCh38-2020-A': 'P10_T2',\n",
    " 'spaceranger110_count_38262_OTAR_LNGsp10206166_GRCh38-2020-A': 'P16_T2',\n",
    " 'spaceranger110_count_38385_OTAR_LNGsp10206159_GRCh38-2020-A': 'P17_T1',\n",
    " 'spaceranger110_count_36209_OTAR_LNGsp9476040_GRCh38-2020-A': 'P10_T3',\n",
    " 'spaceranger110_count_38385_OTAR_LNGsp10206158_GRCh38-2020-A': 'P15_T2',\n",
    " 'spaceranger110_count_38385_OTAR_LNGsp10206157_GRCh38-2020-A': 'P15_T1',\n",
    " 'spaceranger110_count_38384_OTAR_LNGsp10206164_GRCh38-2020-A': 'D1_2',\n",
    " 'spaceranger110_count_39586_OTAR_LNGsp10391236_GRCh38-2020-A': 'P25_T2',\n",
    " 'spaceranger110_count_36209_OTAR_LNGsp9476041_GRCh38-2020-A': 'P10_T4',\n",
    " 'spaceranger110_count_38384_OTAR_LNGsp10206161_GRCh38-2020-A': 'D2_1',\n",
    " 'spaceranger110_count_40951_OTAR_LNGsp10922366_GRCh38-2020-A': 'P17_B2',\n",
    " 'spaceranger110_count_40951_OTAR_LNGsp10922365_GRCh38-2020-A': 'P17_B1',\n",
    " 'spaceranger110_count_36210_OTAR_LNGsp9476045_GRCh38-2020-A': 'P11_T4',\n",
    " 'spaceranger110_count_39586_OTAR_LNGsp10391235_GRCh38-2020-A': 'P25_T1',\n",
    " 'spaceranger110_count_40751_OTAR_LNGsp10782317_GRCh38-2020-A': 'P10_B2',\n",
    " 'spaceranger110_count_40612_OTAR_LNGsp10782311_GRCh38-2020-A': 'P15_B2',\n",
    " 'spaceranger110_count_40952_OTAR_LNGsp10922370_GRCh38-2020-A': 'P25_B2',\n",
    " 'spaceranger110_count_40612_OTAR_LNGsp10782312_GRCh38-2020-A': 'P19_B1',\n",
    " 'spaceranger110_count_40951_OTAR_LNGsp10922368_GRCh38-2020-A': 'P16_B2',\n",
    " 'spaceranger110_count_36210_OTAR_LNGsp9476044_GRCh38-2020-A': 'P11_T3',\n",
    " 'spaceranger110_count_40751_OTAR_LNGsp10782314_GRCh38-2020-A': 'P11_B1',\n",
    " 'spaceranger110_count_40751_OTAR_LNGsp10782316_GRCh38-2020-A': 'P10_B1',\n",
    " 'spaceranger110_count_40952_OTAR_LNGsp10922371_GRCh38-2020-A': 'P24_B1',\n",
    " 'spaceranger110_count_40612_OTAR_LNGsp10782310_GRCh38-2020-A': 'P15_B1',\n",
    " 'spaceranger110_count_38262_OTAR_LNGsp10206168_GRCh38-2020-A': 'P19_T2',\n",
    " 'spaceranger110_count_38262_OTAR_LNGsp10206167_GRCh38-2020-A': 'P19_T1',\n",
    " 'spaceranger110_count_40951_OTAR_LNGsp10922367_GRCh38-2020-A': 'P16_B1',\n",
    " 'spaceranger110_count_38384_OTAR_LNGsp10206163_GRCh38-2020-A': 'D1_1',\n",
    " 'spaceranger110_count_38384_OTAR_LNGsp10206162_GRCh38-2020-A': 'D2_2',\n",
    " 'spaceranger110_count_40952_OTAR_LNGsp10922369_GRCh38-2020-A': 'P25_B1',\n",
    " 'spaceranger110_count_38262_OTAR_LNGsp10206165_GRCh38-2020-A': 'P16_T1',\n",
    " 'spaceranger110_count_36210_OTAR_LNGsp9476042_GRCh38-2020-A': 'P11_T1',\n",
    " 'spaceranger110_count_36210_OTAR_LNGsp9476043_GRCh38-2020-A': 'P11_T2',\n",
    " 'spaceranger110_count_40751_OTAR_LNGsp10782315_GRCh38-2020-A': 'P11_B2',\n",
    " 'spaceranger110_count_40952_OTAR_LNGsp10922372_GRCh38-2020-A': 'P24_B2'}"
   ]
  },
  {
   "cell_type": "code",
   "execution_count": 19,
   "id": "44af3fca-72ff-4f02-9a22-4c1acffae1d6",
   "metadata": {},
   "outputs": [],
   "source": [
    "#path to the folder where the output of cell2location is located\n",
    "\n",
    "env = \"/cell2location/spatial_model_SC_Y_sig_matrix_adeno_LUAD_patients/Background\"\n",
    "folder = \"/home/biolab/Projects/LAMs_wd/results/\"\n",
    "cell2location_res_all_cts = sc.read_h5ad(f\"{folder}{env}/sp_our_sig_matrix_all_cts_Background.h5ad\")\n",
    "\n"
   ]
  },
  {
   "cell_type": "code",
   "execution_count": 20,
   "id": "e09b1087-28a8-4581-a20b-96c788f06659",
   "metadata": {},
   "outputs": [],
   "source": [
    "patients = list(cell2location_res_all_cts.uns[\"spatial\"].keys())\n",
    "\n",
    "#dict to sort the ouput for each patient\n",
    "slices = {}\n",
    "\n",
    "for patient in patients:\n",
    "    \n",
    "    slices [patient] = {}\n",
    "    #get  specific spots for that patient\n",
    "    spots = [s for s in cell2location_res_all_cts.obs_names if patient in s]\n",
    "    \n",
    "    slice_res = cell2location_res_all_cts[spots].copy()\n",
    "    #slice_res.obs_names = [s.replace(f\"{patient}_\",\"\") for s in slice_res.obs_names]\n",
    "    \n",
    "    #retireve the cell abundance matrix\n",
    "    weights = slice_res.obsm[\"q05_cell_abundance_w_sf\"]\n",
    "    weights.columns = [c.replace(\"q05cell_abundance_w_sf_\", \"\") for c in weights]\n",
    "\n",
    "    \n",
    "    slices[patient][\"w\"] = weights.copy()\n",
    "    #add a column that contains the cell type id with the highest weight\n",
    "    slices[patient][\"w\"]['max_w'] = slices[patient][\"w\"].idxmax(axis=1)\n",
    "    \n",
    "    #add two columns that consist of the spot's spatial data\n",
    "    slices[patient][\"w\"][\"x\"] = slice_res.obsm[\"spatial\"][:,0]\n",
    "    slices[patient][\"w\"][\"y\"] = slice_res.obsm[\"spatial\"][:,1]"
   ]
  },
  {
   "cell_type": "code",
   "execution_count": 21,
   "id": "106daedf-bdf2-4659-9b4b-b6c1d8f902e0",
   "metadata": {},
   "outputs": [
    {
     "name": "stdout",
     "output_type": "stream",
     "text": [
      "P15_B1 : 248\n",
      "P15_B2 : 270\n",
      "P10_B1 : 323\n",
      "P10_B2 : 220\n",
      "P16_B1 : 94\n",
      "P16_B2 : 65\n",
      "P25_B1 : 60\n",
      "P25_B2 : 59\n",
      "P24_B1 : 389\n",
      "P24_B2 : 391\n"
     ]
    }
   ],
   "source": [
    "#in this section, i check the version where cell2location was run using all 24 cell types.\n",
    "#then, i count how many spots per patient have a high abundance assigned to a macrophage cell type.\n",
    "#i also store these ids in a list named: spots\n",
    "macro_spots = {}\n",
    "spots = set()\n",
    "for patient in patients:\n",
    "    macro_spots[patient] = slices[patient][\"w\"][slices[patient][\"w\"][\"max_w\"].isin([\"Macrophage_alveolar\", \"Macrophage\"])]\n",
    "    print(ids[patient], \":\", macro_spots[patient].shape[0])\n",
    "    spots = spots.union(set(macro_spots[patient].index))"
   ]
  },
  {
   "cell_type": "code",
   "execution_count": 22,
   "id": "33149c95-0df9-4f4b-a5d6-058e49403e62",
   "metadata": {},
   "outputs": [
    {
     "data": {
      "text/plain": [
       "2119"
      ]
     },
     "execution_count": 22,
     "metadata": {},
     "output_type": "execute_result"
    }
   ],
   "source": [
    "len(spots)"
   ]
  },
  {
   "cell_type": "code",
   "execution_count": 26,
   "id": "4d18523f-3396-41b8-95e4-1926834518ff",
   "metadata": {},
   "outputs": [],
   "source": [
    "# Clean up the env string to avoid using directory-like structures\n",
    "env_cleaned = env.strip(\"/\").replace(\"/\", \"_\")  # Replace slashes with underscores\n",
    "\n",
    "# Now write to a file with a valid name\n",
    "with open(f\"luad_macrophage_spots_{env_cleaned}.txt\", \"w\") as o:\n",
    "    for spot in spots:\n",
    "        o.write(f\"{spot}\\n\")\n"
   ]
  },
  {
   "cell_type": "code",
   "execution_count": 27,
   "id": "dce7bc98-77e9-4823-a018-9481729fe9b1",
   "metadata": {},
   "outputs": [],
   "source": [
    "if not os.path.exists(f\"output/{env}/deconv_1/\"):\n",
    "    os.makedirs(f\"output/{env}/deconv_1/\")\n",
    "for patient in patients:\n",
    "    slices[patient][\"w\"].to_csv(f\"output/{env}/deconv_1/{ids[patient]}_deconv_1_cell_abundance.xlsx\")"
   ]
  },
  {
   "cell_type": "code",
   "execution_count": null,
   "id": "53f5c366-54d7-4e0e-aa52-256889bfb249",
   "metadata": {},
   "outputs": [],
   "source": []
  }
 ],
 "metadata": {
  "kernelspec": {
   "display_name": "Python (jupyter_env)",
   "language": "python",
   "name": "jupyter_env"
  },
  "language_info": {
   "codemirror_mode": {
    "name": "ipython",
    "version": 3
   },
   "file_extension": ".py",
   "mimetype": "text/x-python",
   "name": "python",
   "nbconvert_exporter": "python",
   "pygments_lexer": "ipython3",
   "version": "3.10.16"
  }
 },
 "nbformat": 4,
 "nbformat_minor": 5
}
