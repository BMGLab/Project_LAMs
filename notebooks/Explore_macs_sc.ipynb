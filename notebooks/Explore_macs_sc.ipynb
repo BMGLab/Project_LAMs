{
 "cells": [
  {
   "cell_type": "code",
   "execution_count": 8,
   "metadata": {},
   "outputs": [],
   "source": [
    "import scanpy as sc\n",
    "import pandas as pd\n",
    "import random\n",
    "import numpy as np\n",
    "import matplotlib as plt\n",
    "import gc \n",
    "import ctypes\n",
    "import scvi\n",
    "from pydeseq2.dds import DeseqDataSet\n",
    "from pydeseq2.ds import DeseqStats\n",
    "import gc \n",
    "import ctypes"
   ]
  },
  {
   "cell_type": "code",
   "execution_count": 2,
   "metadata": {},
   "outputs": [],
   "source": [
    "adata = sc.read_h5ad('../data/luca_query_reannotated.h5ad')"
   ]
  },
  {
   "cell_type": "code",
   "execution_count": 9,
   "metadata": {},
   "outputs": [],
   "source": [
    "batch_key = \"sample\"\n",
    "label_key = \"cell_type\""
   ]
  },
  {
   "cell_type": "code",
   "execution_count": 12,
   "metadata": {},
   "outputs": [
    {
     "ename": "ImportError",
     "evalue": "cannot import name 'REGISTRY_KEYS' from 'scvi' (/home/biolab/miniconda3/lib/python3.13/site-packages/scvi/__init__.py)",
     "output_type": "error",
     "traceback": [
      "\u001b[31m---------------------------------------------------------------------------\u001b[39m",
      "\u001b[31mImportError\u001b[39m                               Traceback (most recent call last)",
      "\u001b[36mCell\u001b[39m\u001b[36m \u001b[39m\u001b[32mIn[12]\u001b[39m\u001b[32m, line 1\u001b[39m\n\u001b[32m----> \u001b[39m\u001b[32m1\u001b[39m \u001b[38;5;28;01mfrom\u001b[39;00m\u001b[38;5;250m \u001b[39m\u001b[34;01mscvi\u001b[39;00m\u001b[34;01m.\u001b[39;00m\u001b[34;01mmodel\u001b[39;00m\u001b[38;5;250m \u001b[39m\u001b[38;5;28;01mimport\u001b[39;00m SCVI\n\u001b[32m      3\u001b[39m SCVI.setup_anndata(adata, layer=\u001b[33m\"\u001b[39m\u001b[33mcount\u001b[39m\u001b[33m\"\u001b[39m, batch_key=batch_key)\n",
      "\u001b[36mFile \u001b[39m\u001b[32m~/miniconda3/lib/python3.13/site-packages/scvi/model/__init__.py:1\u001b[39m\n\u001b[32m----> \u001b[39m\u001b[32m1\u001b[39m \u001b[38;5;28;01mfrom\u001b[39;00m\u001b[38;5;250m \u001b[39m\u001b[34;01m.\u001b[39;00m\u001b[38;5;250m \u001b[39m\u001b[38;5;28;01mimport\u001b[39;00m utils\n\u001b[32m      2\u001b[39m \u001b[38;5;28;01mfrom\u001b[39;00m\u001b[38;5;250m \u001b[39m\u001b[34;01m.\u001b[39;00m\u001b[34;01m_amortizedlda\u001b[39;00m\u001b[38;5;250m \u001b[39m\u001b[38;5;28;01mimport\u001b[39;00m AmortizedLDA\n\u001b[32m      3\u001b[39m \u001b[38;5;28;01mfrom\u001b[39;00m\u001b[38;5;250m \u001b[39m\u001b[34;01m.\u001b[39;00m\u001b[34;01m_autozi\u001b[39;00m\u001b[38;5;250m \u001b[39m\u001b[38;5;28;01mimport\u001b[39;00m AUTOZI\n",
      "\u001b[36mFile \u001b[39m\u001b[32m~/miniconda3/lib/python3.13/site-packages/scvi/model/utils/__init__.py:1\u001b[39m\n\u001b[32m----> \u001b[39m\u001b[32m1\u001b[39m \u001b[38;5;28;01mfrom\u001b[39;00m\u001b[38;5;250m \u001b[39m\u001b[34;01m.\u001b[39;00m\u001b[34;01m_minification\u001b[39;00m\u001b[38;5;250m \u001b[39m\u001b[38;5;28;01mimport\u001b[39;00m get_minified_adata_scrna, get_minified_mudata\n\u001b[32m      3\u001b[39m __all__ = [\u001b[33m\"\u001b[39m\u001b[33mget_minified_adata_scrna\u001b[39m\u001b[33m\"\u001b[39m, \u001b[33m\"\u001b[39m\u001b[33mget_minified_mudata\u001b[39m\u001b[33m\"\u001b[39m]\n",
      "\u001b[36mFile \u001b[39m\u001b[32m~/miniconda3/lib/python3.13/site-packages/scvi/model/utils/_minification.py:7\u001b[39m\n\u001b[32m      3\u001b[39m \u001b[38;5;28;01mfrom\u001b[39;00m\u001b[38;5;250m \u001b[39m\u001b[34;01mtyping\u001b[39;00m\u001b[38;5;250m \u001b[39m\u001b[38;5;28;01mimport\u001b[39;00m TYPE_CHECKING\n\u001b[32m      5\u001b[39m \u001b[38;5;28;01mfrom\u001b[39;00m\u001b[38;5;250m \u001b[39m\u001b[34;01mscipy\u001b[39;00m\u001b[34;01m.\u001b[39;00m\u001b[34;01msparse\u001b[39;00m\u001b[38;5;250m \u001b[39m\u001b[38;5;28;01mimport\u001b[39;00m csr_matrix\n\u001b[32m----> \u001b[39m\u001b[32m7\u001b[39m \u001b[38;5;28;01mfrom\u001b[39;00m\u001b[38;5;250m \u001b[39m\u001b[34;01mscvi\u001b[39;00m\u001b[38;5;250m \u001b[39m\u001b[38;5;28;01mimport\u001b[39;00m REGISTRY_KEYS\n\u001b[32m      9\u001b[39m \u001b[38;5;28;01mif\u001b[39;00m TYPE_CHECKING:\n\u001b[32m     10\u001b[39m     \u001b[38;5;28;01mfrom\u001b[39;00m\u001b[38;5;250m \u001b[39m\u001b[34;01manndata\u001b[39;00m\u001b[38;5;250m \u001b[39m\u001b[38;5;28;01mimport\u001b[39;00m AnnData\n",
      "\u001b[31mImportError\u001b[39m: cannot import name 'REGISTRY_KEYS' from 'scvi' (/home/biolab/miniconda3/lib/python3.13/site-packages/scvi/__init__.py)"
     ]
    }
   ],
   "source": [
    "from scvi.model import SCVI\n",
    "\n",
    "SCVI.setup_anndata(adata, layer=\"count\", batch_key=batch_key)\n"
   ]
  },
  {
   "cell_type": "code",
   "execution_count": null,
   "metadata": {},
   "outputs": [],
   "source": []
  },
  {
   "cell_type": "code",
   "execution_count": null,
   "metadata": {},
   "outputs": [],
   "source": [
    "X = adata.X\n",
    "X = np.log1p(X)\n",
    "X = np.expm1(X)\n",
    "mean = X.mean(axis=0).A1\n",
    "mean[mean == 0] = 1e-12\n",
    "mean = np.log1p(mean)\n",
    "np.any(mean == np.inf)"
   ]
  },
  {
   "cell_type": "code",
   "execution_count": 15,
   "metadata": {},
   "outputs": [
    {
     "name": "stdout",
     "output_type": "stream",
     "text": [
      "0.6.8\n"
     ]
    }
   ],
   "source": [
    "import scvi\n",
    "print(scvi.__version__)\n"
   ]
  },
  {
   "cell_type": "code",
   "execution_count": 14,
   "metadata": {},
   "outputs": [
    {
     "name": "stderr",
     "output_type": "stream",
     "text": [
      "/home/biolab/miniconda3/lib/python3.13/pty.py:95: DeprecationWarning: This process (pid=2944272) is multi-threaded, use of forkpty() may lead to deadlocks in the child.\n",
      "  pid, fd = os.forkpty()\n"
     ]
    },
    {
     "name": "stdout",
     "output_type": "stream",
     "text": [
      "Requirement already satisfied: scvi-tools in /home/biolab/miniconda3/lib/python3.13/site-packages (1.3.0)\n",
      "Requirement already satisfied: anndata>=0.11 in /home/biolab/miniconda3/lib/python3.13/site-packages (from scvi-tools) (0.11.4)\n",
      "Requirement already satisfied: docrep>=0.3.2 in /home/biolab/miniconda3/lib/python3.13/site-packages (from scvi-tools) (0.3.2)\n",
      "Requirement already satisfied: flax in /home/biolab/miniconda3/lib/python3.13/site-packages (from scvi-tools) (0.10.4)\n",
      "Requirement already satisfied: jax<=0.4.35 in /home/biolab/miniconda3/lib/python3.13/site-packages (from scvi-tools) (0.4.35)\n",
      "Requirement already satisfied: jaxlib<=0.4.35 in /home/biolab/miniconda3/lib/python3.13/site-packages (from scvi-tools) (0.4.35)\n",
      "Requirement already satisfied: lightning>=2.0 in /home/biolab/miniconda3/lib/python3.13/site-packages (from scvi-tools) (2.5.1)\n",
      "Requirement already satisfied: ml-collections>=0.1.1 in /home/biolab/miniconda3/lib/python3.13/site-packages (from scvi-tools) (1.0.0)\n",
      "Requirement already satisfied: mudata>=0.1.2 in /home/biolab/miniconda3/lib/python3.13/site-packages (from scvi-tools) (0.3.1)\n",
      "Requirement already satisfied: numba>=0.60.0 in /home/biolab/miniconda3/lib/python3.13/site-packages (from scvi-tools) (0.61.0)\n",
      "Requirement already satisfied: numpy in /home/biolab/miniconda3/lib/python3.13/site-packages (from scvi-tools) (2.1.3)\n",
      "Requirement already satisfied: numpyro>=0.12.1 in /home/biolab/miniconda3/lib/python3.13/site-packages (from scvi-tools) (0.18.0)\n",
      "Requirement already satisfied: optax in /home/biolab/miniconda3/lib/python3.13/site-packages (from scvi-tools) (0.2.4)\n",
      "Requirement already satisfied: pandas in /home/biolab/miniconda3/lib/python3.13/site-packages (from scvi-tools) (2.2.3)\n",
      "Requirement already satisfied: pyro-ppl>=1.6.0 in /home/biolab/miniconda3/lib/python3.13/site-packages (from scvi-tools) (1.9.1)\n",
      "Requirement already satisfied: rich>=12.0.0 in /home/biolab/miniconda3/lib/python3.13/site-packages (from scvi-tools) (14.0.0)\n",
      "Requirement already satisfied: scikit-learn>=0.21.2 in /home/biolab/miniconda3/lib/python3.13/site-packages (from scvi-tools) (1.5.2)\n",
      "Requirement already satisfied: scipy in /home/biolab/miniconda3/lib/python3.13/site-packages (from scvi-tools) (1.15.2)\n",
      "Requirement already satisfied: sparse>=0.14.0 in /home/biolab/miniconda3/lib/python3.13/site-packages (from scvi-tools) (0.16.0)\n",
      "Requirement already satisfied: tensorboard>=2.0 in /home/biolab/miniconda3/lib/python3.13/site-packages (from scvi-tools) (2.19.0)\n",
      "Requirement already satisfied: torch in /home/biolab/miniconda3/lib/python3.13/site-packages (from scvi-tools) (2.6.0)\n",
      "Requirement already satisfied: torchmetrics>=0.11.0 in /home/biolab/miniconda3/lib/python3.13/site-packages (from scvi-tools) (1.7.0)\n",
      "Requirement already satisfied: tqdm in /home/biolab/miniconda3/lib/python3.13/site-packages (from scvi-tools) (4.67.1)\n",
      "Requirement already satisfied: xarray>=2023.2.0 in /home/biolab/miniconda3/lib/python3.13/site-packages (from scvi-tools) (2025.3.1)\n",
      "Requirement already satisfied: array-api-compat!=1.5,>1.4 in /home/biolab/miniconda3/lib/python3.13/site-packages (from anndata>=0.11->scvi-tools) (1.11.2)\n",
      "Requirement already satisfied: h5py>=3.7 in /home/biolab/miniconda3/lib/python3.13/site-packages (from anndata>=0.11->scvi-tools) (3.13.0)\n",
      "Requirement already satisfied: natsort in /home/biolab/miniconda3/lib/python3.13/site-packages (from anndata>=0.11->scvi-tools) (8.4.0)\n",
      "Requirement already satisfied: packaging>=24.2 in /home/biolab/miniconda3/lib/python3.13/site-packages (from anndata>=0.11->scvi-tools) (24.2)\n",
      "Requirement already satisfied: six in /home/biolab/miniconda3/lib/python3.13/site-packages (from docrep>=0.3.2->scvi-tools) (1.17.0)\n",
      "Requirement already satisfied: ml-dtypes>=0.4.0 in /home/biolab/miniconda3/lib/python3.13/site-packages (from jax<=0.4.35->scvi-tools) (0.5.1)\n",
      "Requirement already satisfied: opt-einsum in /home/biolab/miniconda3/lib/python3.13/site-packages (from jax<=0.4.35->scvi-tools) (3.4.0)\n",
      "Requirement already satisfied: PyYAML<8.0,>=5.4 in /home/biolab/miniconda3/lib/python3.13/site-packages (from lightning>=2.0->scvi-tools) (6.0.2)\n",
      "Requirement already satisfied: fsspec<2026.0,>=2022.5.0 in /home/biolab/miniconda3/lib/python3.13/site-packages (from fsspec[http]<2026.0,>=2022.5.0->lightning>=2.0->scvi-tools) (2025.3.0)\n",
      "Requirement already satisfied: lightning-utilities<2.0,>=0.10.0 in /home/biolab/miniconda3/lib/python3.13/site-packages (from lightning>=2.0->scvi-tools) (0.14.3)\n",
      "Requirement already satisfied: typing-extensions<6.0,>=4.4.0 in /home/biolab/miniconda3/lib/python3.13/site-packages (from lightning>=2.0->scvi-tools) (4.12.2)\n",
      "Requirement already satisfied: pytorch-lightning in /home/biolab/miniconda3/lib/python3.13/site-packages (from lightning>=2.0->scvi-tools) (2.5.1)\n",
      "Requirement already satisfied: absl-py in /home/biolab/miniconda3/lib/python3.13/site-packages (from ml-collections>=0.1.1->scvi-tools) (2.2.2)\n",
      "Requirement already satisfied: llvmlite<0.45,>=0.44.0dev0 in /home/biolab/miniconda3/lib/python3.13/site-packages (from numba>=0.60.0->scvi-tools) (0.44.0)\n",
      "Requirement already satisfied: multipledispatch in /home/biolab/miniconda3/lib/python3.13/site-packages (from numpyro>=0.12.1->scvi-tools) (1.0.0)\n",
      "Requirement already satisfied: python-dateutil>=2.8.2 in /home/biolab/miniconda3/lib/python3.13/site-packages (from pandas->scvi-tools) (2.9.0.post0)\n",
      "Requirement already satisfied: pytz>=2020.1 in /home/biolab/miniconda3/lib/python3.13/site-packages (from pandas->scvi-tools) (2025.2)\n",
      "Requirement already satisfied: tzdata>=2022.7 in /home/biolab/miniconda3/lib/python3.13/site-packages (from pandas->scvi-tools) (2025.2)\n",
      "Requirement already satisfied: pyro-api>=0.1.1 in /home/biolab/miniconda3/lib/python3.13/site-packages (from pyro-ppl>=1.6.0->scvi-tools) (0.1.2)\n",
      "Requirement already satisfied: markdown-it-py>=2.2.0 in /home/biolab/miniconda3/lib/python3.13/site-packages (from rich>=12.0.0->scvi-tools) (3.0.0)\n",
      "Requirement already satisfied: pygments<3.0.0,>=2.13.0 in /home/biolab/miniconda3/lib/python3.13/site-packages (from rich>=12.0.0->scvi-tools) (2.19.1)\n",
      "Requirement already satisfied: joblib>=1.2.0 in /home/biolab/miniconda3/lib/python3.13/site-packages (from scikit-learn>=0.21.2->scvi-tools) (1.4.2)\n",
      "Requirement already satisfied: threadpoolctl>=3.1.0 in /home/biolab/miniconda3/lib/python3.13/site-packages (from scikit-learn>=0.21.2->scvi-tools) (3.6.0)\n",
      "Requirement already satisfied: grpcio>=1.48.2 in /home/biolab/miniconda3/lib/python3.13/site-packages (from tensorboard>=2.0->scvi-tools) (1.71.0)\n",
      "Requirement already satisfied: markdown>=2.6.8 in /home/biolab/miniconda3/lib/python3.13/site-packages (from tensorboard>=2.0->scvi-tools) (3.7)\n",
      "Requirement already satisfied: protobuf!=4.24.0,>=3.19.6 in /home/biolab/miniconda3/lib/python3.13/site-packages (from tensorboard>=2.0->scvi-tools) (6.30.2)\n",
      "Requirement already satisfied: setuptools>=41.0.0 in /home/biolab/miniconda3/lib/python3.13/site-packages (from tensorboard>=2.0->scvi-tools) (75.8.0)\n",
      "Requirement already satisfied: tensorboard-data-server<0.8.0,>=0.7.0 in /home/biolab/miniconda3/lib/python3.13/site-packages (from tensorboard>=2.0->scvi-tools) (0.7.2)\n",
      "Requirement already satisfied: werkzeug>=1.0.1 in /home/biolab/miniconda3/lib/python3.13/site-packages (from tensorboard>=2.0->scvi-tools) (3.1.3)\n",
      "Requirement already satisfied: filelock in /home/biolab/miniconda3/lib/python3.13/site-packages (from torch->scvi-tools) (3.18.0)\n",
      "Requirement already satisfied: networkx in /home/biolab/miniconda3/lib/python3.13/site-packages (from torch->scvi-tools) (3.4.2)\n",
      "Requirement already satisfied: jinja2 in /home/biolab/miniconda3/lib/python3.13/site-packages (from torch->scvi-tools) (3.1.6)\n",
      "Requirement already satisfied: nvidia-cuda-nvrtc-cu12==12.4.127 in /home/biolab/miniconda3/lib/python3.13/site-packages (from torch->scvi-tools) (12.4.127)\n",
      "Requirement already satisfied: nvidia-cuda-runtime-cu12==12.4.127 in /home/biolab/miniconda3/lib/python3.13/site-packages (from torch->scvi-tools) (12.4.127)\n",
      "Requirement already satisfied: nvidia-cuda-cupti-cu12==12.4.127 in /home/biolab/miniconda3/lib/python3.13/site-packages (from torch->scvi-tools) (12.4.127)\n",
      "Requirement already satisfied: nvidia-cudnn-cu12==9.1.0.70 in /home/biolab/miniconda3/lib/python3.13/site-packages (from torch->scvi-tools) (9.1.0.70)\n",
      "Requirement already satisfied: nvidia-cublas-cu12==12.4.5.8 in /home/biolab/miniconda3/lib/python3.13/site-packages (from torch->scvi-tools) (12.4.5.8)\n",
      "Requirement already satisfied: nvidia-cufft-cu12==11.2.1.3 in /home/biolab/miniconda3/lib/python3.13/site-packages (from torch->scvi-tools) (11.2.1.3)\n",
      "Requirement already satisfied: nvidia-curand-cu12==10.3.5.147 in /home/biolab/miniconda3/lib/python3.13/site-packages (from torch->scvi-tools) (10.3.5.147)\n",
      "Requirement already satisfied: nvidia-cusolver-cu12==11.6.1.9 in /home/biolab/miniconda3/lib/python3.13/site-packages (from torch->scvi-tools) (11.6.1.9)\n",
      "Requirement already satisfied: nvidia-cusparse-cu12==12.3.1.170 in /home/biolab/miniconda3/lib/python3.13/site-packages (from torch->scvi-tools) (12.3.1.170)\n",
      "Requirement already satisfied: nvidia-cusparselt-cu12==0.6.2 in /home/biolab/miniconda3/lib/python3.13/site-packages (from torch->scvi-tools) (0.6.2)\n",
      "Requirement already satisfied: nvidia-nccl-cu12==2.21.5 in /home/biolab/miniconda3/lib/python3.13/site-packages (from torch->scvi-tools) (2.21.5)\n",
      "Requirement already satisfied: nvidia-nvtx-cu12==12.4.127 in /home/biolab/miniconda3/lib/python3.13/site-packages (from torch->scvi-tools) (12.4.127)\n",
      "Requirement already satisfied: nvidia-nvjitlink-cu12==12.4.127 in /home/biolab/miniconda3/lib/python3.13/site-packages (from torch->scvi-tools) (12.4.127)\n",
      "Requirement already satisfied: triton==3.2.0 in /home/biolab/miniconda3/lib/python3.13/site-packages (from torch->scvi-tools) (3.2.0)\n",
      "Requirement already satisfied: sympy==1.13.1 in /home/biolab/miniconda3/lib/python3.13/site-packages (from torch->scvi-tools) (1.13.1)\n",
      "Requirement already satisfied: mpmath<1.4,>=1.1.0 in /home/biolab/miniconda3/lib/python3.13/site-packages (from sympy==1.13.1->torch->scvi-tools) (1.3.0)\n",
      "Requirement already satisfied: msgpack in /home/biolab/miniconda3/lib/python3.13/site-packages (from flax->scvi-tools) (1.1.0)\n",
      "Requirement already satisfied: orbax-checkpoint in /home/biolab/miniconda3/lib/python3.13/site-packages (from flax->scvi-tools) (0.11.5)\n",
      "Requirement already satisfied: tensorstore in /home/biolab/miniconda3/lib/python3.13/site-packages (from flax->scvi-tools) (0.1.73)\n",
      "Requirement already satisfied: treescope>=0.1.7 in /home/biolab/miniconda3/lib/python3.13/site-packages (from flax->scvi-tools) (0.1.9)\n",
      "Requirement already satisfied: chex>=0.1.87 in /home/biolab/miniconda3/lib/python3.13/site-packages (from optax->scvi-tools) (0.1.89)\n",
      "Requirement already satisfied: etils[epy] in /home/biolab/miniconda3/lib/python3.13/site-packages (from optax->scvi-tools) (1.12.2)\n",
      "Requirement already satisfied: toolz>=0.9.0 in /home/biolab/miniconda3/lib/python3.13/site-packages (from chex>=0.1.87->optax->scvi-tools) (1.0.0)\n",
      "Requirement already satisfied: aiohttp!=4.0.0a0,!=4.0.0a1 in /home/biolab/miniconda3/lib/python3.13/site-packages (from fsspec[http]<2026.0,>=2022.5.0->lightning>=2.0->scvi-tools) (3.11.14)\n",
      "Requirement already satisfied: mdurl~=0.1 in /home/biolab/miniconda3/lib/python3.13/site-packages (from markdown-it-py>=2.2.0->rich>=12.0.0->scvi-tools) (0.1.2)\n",
      "Requirement already satisfied: MarkupSafe>=2.1.1 in /home/biolab/miniconda3/lib/python3.13/site-packages (from werkzeug>=1.0.1->tensorboard>=2.0->scvi-tools) (3.0.2)\n",
      "Requirement already satisfied: nest_asyncio in /home/biolab/miniconda3/lib/python3.13/site-packages (from orbax-checkpoint->flax->scvi-tools) (1.6.0)\n",
      "Requirement already satisfied: humanize in /home/biolab/miniconda3/lib/python3.13/site-packages (from orbax-checkpoint->flax->scvi-tools) (4.12.2)\n",
      "Requirement already satisfied: simplejson>=3.16.0 in /home/biolab/miniconda3/lib/python3.13/site-packages (from orbax-checkpoint->flax->scvi-tools) (3.20.1)\n",
      "Requirement already satisfied: aiohappyeyeballs>=2.3.0 in /home/biolab/miniconda3/lib/python3.13/site-packages (from aiohttp!=4.0.0a0,!=4.0.0a1->fsspec[http]<2026.0,>=2022.5.0->lightning>=2.0->scvi-tools) (2.6.1)\n",
      "Requirement already satisfied: aiosignal>=1.1.2 in /home/biolab/miniconda3/lib/python3.13/site-packages (from aiohttp!=4.0.0a0,!=4.0.0a1->fsspec[http]<2026.0,>=2022.5.0->lightning>=2.0->scvi-tools) (1.3.2)\n",
      "Requirement already satisfied: attrs>=17.3.0 in /home/biolab/miniconda3/lib/python3.13/site-packages (from aiohttp!=4.0.0a0,!=4.0.0a1->fsspec[http]<2026.0,>=2022.5.0->lightning>=2.0->scvi-tools) (25.3.0)\n",
      "Requirement already satisfied: frozenlist>=1.1.1 in /home/biolab/miniconda3/lib/python3.13/site-packages (from aiohttp!=4.0.0a0,!=4.0.0a1->fsspec[http]<2026.0,>=2022.5.0->lightning>=2.0->scvi-tools) (1.5.0)\n",
      "Requirement already satisfied: multidict<7.0,>=4.5 in /home/biolab/miniconda3/lib/python3.13/site-packages (from aiohttp!=4.0.0a0,!=4.0.0a1->fsspec[http]<2026.0,>=2022.5.0->lightning>=2.0->scvi-tools) (6.2.0)\n",
      "Requirement already satisfied: propcache>=0.2.0 in /home/biolab/miniconda3/lib/python3.13/site-packages (from aiohttp!=4.0.0a0,!=4.0.0a1->fsspec[http]<2026.0,>=2022.5.0->lightning>=2.0->scvi-tools) (0.3.1)\n",
      "Requirement already satisfied: yarl<2.0,>=1.17.0 in /home/biolab/miniconda3/lib/python3.13/site-packages (from aiohttp!=4.0.0a0,!=4.0.0a1->fsspec[http]<2026.0,>=2022.5.0->lightning>=2.0->scvi-tools) (1.18.3)\n",
      "Requirement already satisfied: importlib_resources in /home/biolab/miniconda3/lib/python3.13/site-packages (from etils[epy]->optax->scvi-tools) (6.5.2)\n",
      "Requirement already satisfied: zipp in /home/biolab/miniconda3/lib/python3.13/site-packages (from etils[epy]->optax->scvi-tools) (3.21.0)\n",
      "Requirement already satisfied: idna>=2.0 in /home/biolab/miniconda3/lib/python3.13/site-packages (from yarl<2.0,>=1.17.0->aiohttp!=4.0.0a0,!=4.0.0a1->fsspec[http]<2026.0,>=2022.5.0->lightning>=2.0->scvi-tools) (3.10)\n"
     ]
    }
   ],
   "source": [
    "!pip install --upgrade scvi-tools\n"
   ]
  },
  {
   "cell_type": "code",
   "execution_count": null,
   "metadata": {},
   "outputs": [],
   "source": []
  }
 ],
 "metadata": {
  "kernelspec": {
   "display_name": "Python (lcatlas)",
   "language": "python",
   "name": "lcatlas"
  },
  "language_info": {
   "codemirror_mode": {
    "name": "ipython",
    "version": 3
   },
   "file_extension": ".py",
   "mimetype": "text/x-python",
   "name": "python",
   "nbconvert_exporter": "python",
   "pygments_lexer": "ipython3",
   "version": "3.13.2"
  }
 },
 "nbformat": 4,
 "nbformat_minor": 2
}
