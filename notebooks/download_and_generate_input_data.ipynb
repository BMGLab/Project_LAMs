{
 "cells": [
  {
   "cell_type": "markdown",
   "id": "3b5747bd",
   "metadata": {},
   "source": [
    "Download Datasets"
   ]
  },
  {
   "cell_type": "code",
   "execution_count": 20,
   "id": "001f5a59",
   "metadata": {},
   "outputs": [
    {
     "name": "stdout",
     "output_type": "stream",
     "text": [
      "Connected to hl-xfer-public.ebi.ac.uk.\n",
      "220-Welcome to ftp.ebi.ac.uk\n",
      "220 \n",
      "230 Login successful.\n",
      "Remote system type is UNIX.\n",
      "Using binary mode to transfer files.\n",
      "250 Directory successfully changed.\n",
      "200 Switching to Binary mode.\n",
      "local: P16_B1-spatial.tar remote: P16_B1-spatial.tar\n",
      "229 Entering Extended Passive Mode (|||15417|)\n",
      "150 Opening BINARY mode data connection for P16_B1-spatial.tar (10526720 bytes).\n",
      " 48% |****************                   |  4975 KiB    1.61 MiB/s    00:03 ETA^C\n",
      "\n",
      "receive aborted. Waiting for remote to finish abort.\n"
     ]
    }
   ],
   "source": [
    "inDir = \"/home/biolab/Projects/LAMs_wd/data/E-TAMB-13530/\"\n",
    "!cat /home/biolab/Projects/LAMs_wd/data/E-TAMB-13530/E-MTAB-13530-unix-ftp.txt | sh"
   ]
  },
  {
   "cell_type": "code",
   "execution_count": 21,
   "id": "fa37ada3",
   "metadata": {},
   "outputs": [],
   "source": [
    "import os\n",
    "import scanpy as sc\n",
    "import shutil\n",
    "import tarfile"
   ]
  },
  {
   "cell_type": "code",
   "execution_count": 30,
   "id": "0da796f6-828a-47ec-b152-d4be1aa5f7c3",
   "metadata": {},
   "outputs": [
    {
     "name": "stdout",
     "output_type": "stream",
     "text": [
      "P15_T1\n"
     ]
    },
    {
     "name": "stderr",
     "output_type": "stream",
     "text": [
      "/tmp/ipykernel_435784/3981863328.py:23: FutureWarning: Use `squidpy.read.visium` instead.\n",
      "  data = sc.read_visium(f\"{patient}/\")\n",
      "/home/ozlemtuna/miniconda3/envs/jupyter_env/lib/python3.10/site-packages/anndata/_core/anndata.py:1758: UserWarning: Variable names are not unique. To make them unique, call `.var_names_make_unique`.\n",
      "  utils.warn_names_duplicates(\"var\")\n",
      "/home/ozlemtuna/miniconda3/envs/jupyter_env/lib/python3.10/site-packages/anndata/_core/anndata.py:1758: UserWarning: Variable names are not unique. To make them unique, call `.var_names_make_unique`.\n",
      "  utils.warn_names_duplicates(\"var\")\n"
     ]
    },
    {
     "name": "stdout",
     "output_type": "stream",
     "text": [
      "P16_T2\n"
     ]
    },
    {
     "name": "stderr",
     "output_type": "stream",
     "text": [
      "/tmp/ipykernel_435784/3981863328.py:23: FutureWarning: Use `squidpy.read.visium` instead.\n",
      "  data = sc.read_visium(f\"{patient}/\")\n",
      "/home/ozlemtuna/miniconda3/envs/jupyter_env/lib/python3.10/site-packages/anndata/_core/anndata.py:1758: UserWarning: Variable names are not unique. To make them unique, call `.var_names_make_unique`.\n",
      "  utils.warn_names_duplicates(\"var\")\n",
      "/home/ozlemtuna/miniconda3/envs/jupyter_env/lib/python3.10/site-packages/anndata/_core/anndata.py:1758: UserWarning: Variable names are not unique. To make them unique, call `.var_names_make_unique`.\n",
      "  utils.warn_names_duplicates(\"var\")\n",
      "/tmp/ipykernel_435784/3981863328.py:23: FutureWarning: Use `squidpy.read.visium` instead.\n",
      "  data = sc.read_visium(f\"{patient}/\")\n"
     ]
    },
    {
     "name": "stdout",
     "output_type": "stream",
     "text": [
      "P17_T1\n"
     ]
    },
    {
     "name": "stderr",
     "output_type": "stream",
     "text": [
      "/home/ozlemtuna/miniconda3/envs/jupyter_env/lib/python3.10/site-packages/anndata/_core/anndata.py:1758: UserWarning: Variable names are not unique. To make them unique, call `.var_names_make_unique`.\n",
      "  utils.warn_names_duplicates(\"var\")\n",
      "/home/ozlemtuna/miniconda3/envs/jupyter_env/lib/python3.10/site-packages/anndata/_core/anndata.py:1758: UserWarning: Variable names are not unique. To make them unique, call `.var_names_make_unique`.\n",
      "  utils.warn_names_duplicates(\"var\")\n"
     ]
    },
    {
     "name": "stdout",
     "output_type": "stream",
     "text": [
      "P24_B2\n"
     ]
    },
    {
     "name": "stderr",
     "output_type": "stream",
     "text": [
      "/tmp/ipykernel_435784/3981863328.py:23: FutureWarning: Use `squidpy.read.visium` instead.\n",
      "  data = sc.read_visium(f\"{patient}/\")\n",
      "/home/ozlemtuna/miniconda3/envs/jupyter_env/lib/python3.10/site-packages/anndata/_core/anndata.py:1758: UserWarning: Variable names are not unique. To make them unique, call `.var_names_make_unique`.\n",
      "  utils.warn_names_duplicates(\"var\")\n",
      "/home/ozlemtuna/miniconda3/envs/jupyter_env/lib/python3.10/site-packages/anndata/_core/anndata.py:1758: UserWarning: Variable names are not unique. To make them unique, call `.var_names_make_unique`.\n",
      "  utils.warn_names_duplicates(\"var\")\n",
      "/tmp/ipykernel_435784/3981863328.py:23: FutureWarning: Use `squidpy.read.visium` instead.\n",
      "  data = sc.read_visium(f\"{patient}/\")\n"
     ]
    },
    {
     "name": "stdout",
     "output_type": "stream",
     "text": [
      "P11_T4\n"
     ]
    },
    {
     "name": "stderr",
     "output_type": "stream",
     "text": [
      "/home/ozlemtuna/miniconda3/envs/jupyter_env/lib/python3.10/site-packages/anndata/_core/anndata.py:1758: UserWarning: Variable names are not unique. To make them unique, call `.var_names_make_unique`.\n",
      "  utils.warn_names_duplicates(\"var\")\n",
      "/home/ozlemtuna/miniconda3/envs/jupyter_env/lib/python3.10/site-packages/anndata/_core/anndata.py:1758: UserWarning: Variable names are not unique. To make them unique, call `.var_names_make_unique`.\n",
      "  utils.warn_names_duplicates(\"var\")\n",
      "/tmp/ipykernel_435784/3981863328.py:23: FutureWarning: Use `squidpy.read.visium` instead.\n",
      "  data = sc.read_visium(f\"{patient}/\")\n"
     ]
    },
    {
     "name": "stdout",
     "output_type": "stream",
     "text": [
      "D2_1\n"
     ]
    },
    {
     "name": "stderr",
     "output_type": "stream",
     "text": [
      "/home/ozlemtuna/miniconda3/envs/jupyter_env/lib/python3.10/site-packages/anndata/_core/anndata.py:1758: UserWarning: Variable names are not unique. To make them unique, call `.var_names_make_unique`.\n",
      "  utils.warn_names_duplicates(\"var\")\n",
      "/home/ozlemtuna/miniconda3/envs/jupyter_env/lib/python3.10/site-packages/anndata/_core/anndata.py:1758: UserWarning: Variable names are not unique. To make them unique, call `.var_names_make_unique`.\n",
      "  utils.warn_names_duplicates(\"var\")\n",
      "/tmp/ipykernel_435784/3981863328.py:23: FutureWarning: Use `squidpy.read.visium` instead.\n",
      "  data = sc.read_visium(f\"{patient}/\")\n"
     ]
    },
    {
     "name": "stdout",
     "output_type": "stream",
     "text": [
      "P19_T2\n"
     ]
    },
    {
     "name": "stderr",
     "output_type": "stream",
     "text": [
      "/home/ozlemtuna/miniconda3/envs/jupyter_env/lib/python3.10/site-packages/anndata/_core/anndata.py:1758: UserWarning: Variable names are not unique. To make them unique, call `.var_names_make_unique`.\n",
      "  utils.warn_names_duplicates(\"var\")\n",
      "/home/ozlemtuna/miniconda3/envs/jupyter_env/lib/python3.10/site-packages/anndata/_core/anndata.py:1758: UserWarning: Variable names are not unique. To make them unique, call `.var_names_make_unique`.\n",
      "  utils.warn_names_duplicates(\"var\")\n"
     ]
    },
    {
     "name": "stdout",
     "output_type": "stream",
     "text": [
      "P10_T1\n"
     ]
    },
    {
     "name": "stderr",
     "output_type": "stream",
     "text": [
      "/tmp/ipykernel_435784/3981863328.py:23: FutureWarning: Use `squidpy.read.visium` instead.\n",
      "  data = sc.read_visium(f\"{patient}/\")\n",
      "/home/ozlemtuna/miniconda3/envs/jupyter_env/lib/python3.10/site-packages/anndata/_core/anndata.py:1758: UserWarning: Variable names are not unique. To make them unique, call `.var_names_make_unique`.\n",
      "  utils.warn_names_duplicates(\"var\")\n",
      "/home/ozlemtuna/miniconda3/envs/jupyter_env/lib/python3.10/site-packages/anndata/_core/anndata.py:1758: UserWarning: Variable names are not unique. To make them unique, call `.var_names_make_unique`.\n",
      "  utils.warn_names_duplicates(\"var\")\n",
      "/tmp/ipykernel_435784/3981863328.py:23: FutureWarning: Use `squidpy.read.visium` instead.\n",
      "  data = sc.read_visium(f\"{patient}/\")\n"
     ]
    },
    {
     "name": "stdout",
     "output_type": "stream",
     "text": [
      "P16_T1\n"
     ]
    },
    {
     "name": "stderr",
     "output_type": "stream",
     "text": [
      "/home/ozlemtuna/miniconda3/envs/jupyter_env/lib/python3.10/site-packages/anndata/_core/anndata.py:1758: UserWarning: Variable names are not unique. To make them unique, call `.var_names_make_unique`.\n",
      "  utils.warn_names_duplicates(\"var\")\n",
      "/home/ozlemtuna/miniconda3/envs/jupyter_env/lib/python3.10/site-packages/anndata/_core/anndata.py:1758: UserWarning: Variable names are not unique. To make them unique, call `.var_names_make_unique`.\n",
      "  utils.warn_names_duplicates(\"var\")\n",
      "/tmp/ipykernel_435784/3981863328.py:23: FutureWarning: Use `squidpy.read.visium` instead.\n",
      "  data = sc.read_visium(f\"{patient}/\")\n"
     ]
    },
    {
     "name": "stdout",
     "output_type": "stream",
     "text": [
      "P11_B2\n"
     ]
    },
    {
     "name": "stderr",
     "output_type": "stream",
     "text": [
      "/home/ozlemtuna/miniconda3/envs/jupyter_env/lib/python3.10/site-packages/anndata/_core/anndata.py:1758: UserWarning: Variable names are not unique. To make them unique, call `.var_names_make_unique`.\n",
      "  utils.warn_names_duplicates(\"var\")\n",
      "/home/ozlemtuna/miniconda3/envs/jupyter_env/lib/python3.10/site-packages/anndata/_core/anndata.py:1758: UserWarning: Variable names are not unique. To make them unique, call `.var_names_make_unique`.\n",
      "  utils.warn_names_duplicates(\"var\")\n",
      "/tmp/ipykernel_435784/3981863328.py:23: FutureWarning: Use `squidpy.read.visium` instead.\n",
      "  data = sc.read_visium(f\"{patient}/\")\n"
     ]
    },
    {
     "name": "stdout",
     "output_type": "stream",
     "text": [
      "P25_B2\n"
     ]
    },
    {
     "name": "stderr",
     "output_type": "stream",
     "text": [
      "/home/ozlemtuna/miniconda3/envs/jupyter_env/lib/python3.10/site-packages/anndata/_core/anndata.py:1758: UserWarning: Variable names are not unique. To make them unique, call `.var_names_make_unique`.\n",
      "  utils.warn_names_duplicates(\"var\")\n",
      "/home/ozlemtuna/miniconda3/envs/jupyter_env/lib/python3.10/site-packages/anndata/_core/anndata.py:1758: UserWarning: Variable names are not unique. To make them unique, call `.var_names_make_unique`.\n",
      "  utils.warn_names_duplicates(\"var\")\n",
      "/tmp/ipykernel_435784/3981863328.py:23: FutureWarning: Use `squidpy.read.visium` instead.\n",
      "  data = sc.read_visium(f\"{patient}/\")\n"
     ]
    },
    {
     "name": "stdout",
     "output_type": "stream",
     "text": [
      "P10_B2\n"
     ]
    },
    {
     "name": "stderr",
     "output_type": "stream",
     "text": [
      "/home/ozlemtuna/miniconda3/envs/jupyter_env/lib/python3.10/site-packages/anndata/_core/anndata.py:1758: UserWarning: Variable names are not unique. To make them unique, call `.var_names_make_unique`.\n",
      "  utils.warn_names_duplicates(\"var\")\n",
      "/home/ozlemtuna/miniconda3/envs/jupyter_env/lib/python3.10/site-packages/anndata/_core/anndata.py:1758: UserWarning: Variable names are not unique. To make them unique, call `.var_names_make_unique`.\n",
      "  utils.warn_names_duplicates(\"var\")\n",
      "/tmp/ipykernel_435784/3981863328.py:23: FutureWarning: Use `squidpy.read.visium` instead.\n",
      "  data = sc.read_visium(f\"{patient}/\")\n"
     ]
    },
    {
     "name": "stdout",
     "output_type": "stream",
     "text": [
      "D2_2\n"
     ]
    },
    {
     "name": "stderr",
     "output_type": "stream",
     "text": [
      "/home/ozlemtuna/miniconda3/envs/jupyter_env/lib/python3.10/site-packages/anndata/_core/anndata.py:1758: UserWarning: Variable names are not unique. To make them unique, call `.var_names_make_unique`.\n",
      "  utils.warn_names_duplicates(\"var\")\n",
      "/home/ozlemtuna/miniconda3/envs/jupyter_env/lib/python3.10/site-packages/anndata/_core/anndata.py:1758: UserWarning: Variable names are not unique. To make them unique, call `.var_names_make_unique`.\n",
      "  utils.warn_names_duplicates(\"var\")\n",
      "/tmp/ipykernel_435784/3981863328.py:23: FutureWarning: Use `squidpy.read.visium` instead.\n",
      "  data = sc.read_visium(f\"{patient}/\")\n"
     ]
    },
    {
     "name": "stdout",
     "output_type": "stream",
     "text": [
      "P25_T2\n"
     ]
    },
    {
     "name": "stderr",
     "output_type": "stream",
     "text": [
      "/home/ozlemtuna/miniconda3/envs/jupyter_env/lib/python3.10/site-packages/anndata/_core/anndata.py:1758: UserWarning: Variable names are not unique. To make them unique, call `.var_names_make_unique`.\n",
      "  utils.warn_names_duplicates(\"var\")\n",
      "/home/ozlemtuna/miniconda3/envs/jupyter_env/lib/python3.10/site-packages/anndata/_core/anndata.py:1758: UserWarning: Variable names are not unique. To make them unique, call `.var_names_make_unique`.\n",
      "  utils.warn_names_duplicates(\"var\")\n",
      "/tmp/ipykernel_435784/3981863328.py:23: FutureWarning: Use `squidpy.read.visium` instead.\n",
      "  data = sc.read_visium(f\"{patient}/\")\n"
     ]
    },
    {
     "name": "stdout",
     "output_type": "stream",
     "text": [
      "P10_T4\n"
     ]
    },
    {
     "name": "stderr",
     "output_type": "stream",
     "text": [
      "/home/ozlemtuna/miniconda3/envs/jupyter_env/lib/python3.10/site-packages/anndata/_core/anndata.py:1758: UserWarning: Variable names are not unique. To make them unique, call `.var_names_make_unique`.\n",
      "  utils.warn_names_duplicates(\"var\")\n",
      "/home/ozlemtuna/miniconda3/envs/jupyter_env/lib/python3.10/site-packages/anndata/_core/anndata.py:1758: UserWarning: Variable names are not unique. To make them unique, call `.var_names_make_unique`.\n",
      "  utils.warn_names_duplicates(\"var\")\n",
      "/tmp/ipykernel_435784/3981863328.py:23: FutureWarning: Use `squidpy.read.visium` instead.\n",
      "  data = sc.read_visium(f\"{patient}/\")\n"
     ]
    },
    {
     "name": "stdout",
     "output_type": "stream",
     "text": [
      "P15_B2\n"
     ]
    },
    {
     "name": "stderr",
     "output_type": "stream",
     "text": [
      "/home/ozlemtuna/miniconda3/envs/jupyter_env/lib/python3.10/site-packages/anndata/_core/anndata.py:1758: UserWarning: Variable names are not unique. To make them unique, call `.var_names_make_unique`.\n",
      "  utils.warn_names_duplicates(\"var\")\n",
      "/home/ozlemtuna/miniconda3/envs/jupyter_env/lib/python3.10/site-packages/anndata/_core/anndata.py:1758: UserWarning: Variable names are not unique. To make them unique, call `.var_names_make_unique`.\n",
      "  utils.warn_names_duplicates(\"var\")\n",
      "/tmp/ipykernel_435784/3981863328.py:23: FutureWarning: Use `squidpy.read.visium` instead.\n",
      "  data = sc.read_visium(f\"{patient}/\")\n"
     ]
    },
    {
     "name": "stdout",
     "output_type": "stream",
     "text": [
      "D1_1\n",
      "P25_B1\n"
     ]
    },
    {
     "name": "stderr",
     "output_type": "stream",
     "text": [
      "/home/ozlemtuna/miniconda3/envs/jupyter_env/lib/python3.10/site-packages/anndata/_core/anndata.py:1758: UserWarning: Variable names are not unique. To make them unique, call `.var_names_make_unique`.\n",
      "  utils.warn_names_duplicates(\"var\")\n",
      "/home/ozlemtuna/miniconda3/envs/jupyter_env/lib/python3.10/site-packages/anndata/_core/anndata.py:1758: UserWarning: Variable names are not unique. To make them unique, call `.var_names_make_unique`.\n",
      "  utils.warn_names_duplicates(\"var\")\n",
      "/tmp/ipykernel_435784/3981863328.py:23: FutureWarning: Use `squidpy.read.visium` instead.\n",
      "  data = sc.read_visium(f\"{patient}/\")\n",
      "/home/ozlemtuna/miniconda3/envs/jupyter_env/lib/python3.10/site-packages/anndata/_core/anndata.py:1758: UserWarning: Variable names are not unique. To make them unique, call `.var_names_make_unique`.\n",
      "  utils.warn_names_duplicates(\"var\")\n",
      "/home/ozlemtuna/miniconda3/envs/jupyter_env/lib/python3.10/site-packages/anndata/_core/anndata.py:1758: UserWarning: Variable names are not unique. To make them unique, call `.var_names_make_unique`.\n",
      "  utils.warn_names_duplicates(\"var\")\n",
      "/tmp/ipykernel_435784/3981863328.py:23: FutureWarning: Use `squidpy.read.visium` instead.\n",
      "  data = sc.read_visium(f\"{patient}/\")\n"
     ]
    },
    {
     "name": "stdout",
     "output_type": "stream",
     "text": [
      "P19_T1\n"
     ]
    },
    {
     "name": "stderr",
     "output_type": "stream",
     "text": [
      "/home/ozlemtuna/miniconda3/envs/jupyter_env/lib/python3.10/site-packages/anndata/_core/anndata.py:1758: UserWarning: Variable names are not unique. To make them unique, call `.var_names_make_unique`.\n",
      "  utils.warn_names_duplicates(\"var\")\n",
      "/home/ozlemtuna/miniconda3/envs/jupyter_env/lib/python3.10/site-packages/anndata/_core/anndata.py:1758: UserWarning: Variable names are not unique. To make them unique, call `.var_names_make_unique`.\n",
      "  utils.warn_names_duplicates(\"var\")\n"
     ]
    },
    {
     "name": "stdout",
     "output_type": "stream",
     "text": [
      "P15_T2\n"
     ]
    },
    {
     "name": "stderr",
     "output_type": "stream",
     "text": [
      "/tmp/ipykernel_435784/3981863328.py:23: FutureWarning: Use `squidpy.read.visium` instead.\n",
      "  data = sc.read_visium(f\"{patient}/\")\n",
      "/home/ozlemtuna/miniconda3/envs/jupyter_env/lib/python3.10/site-packages/anndata/_core/anndata.py:1758: UserWarning: Variable names are not unique. To make them unique, call `.var_names_make_unique`.\n",
      "  utils.warn_names_duplicates(\"var\")\n",
      "/home/ozlemtuna/miniconda3/envs/jupyter_env/lib/python3.10/site-packages/anndata/_core/anndata.py:1758: UserWarning: Variable names are not unique. To make them unique, call `.var_names_make_unique`.\n",
      "  utils.warn_names_duplicates(\"var\")\n",
      "/tmp/ipykernel_435784/3981863328.py:23: FutureWarning: Use `squidpy.read.visium` instead.\n",
      "  data = sc.read_visium(f\"{patient}/\")\n"
     ]
    },
    {
     "name": "stdout",
     "output_type": "stream",
     "text": [
      "P24_T1\n"
     ]
    },
    {
     "name": "stderr",
     "output_type": "stream",
     "text": [
      "/home/ozlemtuna/miniconda3/envs/jupyter_env/lib/python3.10/site-packages/anndata/_core/anndata.py:1758: UserWarning: Variable names are not unique. To make them unique, call `.var_names_make_unique`.\n",
      "  utils.warn_names_duplicates(\"var\")\n",
      "/home/ozlemtuna/miniconda3/envs/jupyter_env/lib/python3.10/site-packages/anndata/_core/anndata.py:1758: UserWarning: Variable names are not unique. To make them unique, call `.var_names_make_unique`.\n",
      "  utils.warn_names_duplicates(\"var\")\n",
      "/tmp/ipykernel_435784/3981863328.py:23: FutureWarning: Use `squidpy.read.visium` instead.\n",
      "  data = sc.read_visium(f\"{patient}/\")\n"
     ]
    },
    {
     "name": "stdout",
     "output_type": "stream",
     "text": [
      "P10_T3\n"
     ]
    },
    {
     "name": "stderr",
     "output_type": "stream",
     "text": [
      "/home/ozlemtuna/miniconda3/envs/jupyter_env/lib/python3.10/site-packages/anndata/_core/anndata.py:1758: UserWarning: Variable names are not unique. To make them unique, call `.var_names_make_unique`.\n",
      "  utils.warn_names_duplicates(\"var\")\n",
      "/home/ozlemtuna/miniconda3/envs/jupyter_env/lib/python3.10/site-packages/anndata/_core/anndata.py:1758: UserWarning: Variable names are not unique. To make them unique, call `.var_names_make_unique`.\n",
      "  utils.warn_names_duplicates(\"var\")\n",
      "/tmp/ipykernel_435784/3981863328.py:23: FutureWarning: Use `squidpy.read.visium` instead.\n",
      "  data = sc.read_visium(f\"{patient}/\")\n"
     ]
    },
    {
     "name": "stdout",
     "output_type": "stream",
     "text": [
      "P11_T1\n"
     ]
    },
    {
     "name": "stderr",
     "output_type": "stream",
     "text": [
      "/home/ozlemtuna/miniconda3/envs/jupyter_env/lib/python3.10/site-packages/anndata/_core/anndata.py:1758: UserWarning: Variable names are not unique. To make them unique, call `.var_names_make_unique`.\n",
      "  utils.warn_names_duplicates(\"var\")\n",
      "/home/ozlemtuna/miniconda3/envs/jupyter_env/lib/python3.10/site-packages/anndata/_core/anndata.py:1758: UserWarning: Variable names are not unique. To make them unique, call `.var_names_make_unique`.\n",
      "  utils.warn_names_duplicates(\"var\")\n",
      "/tmp/ipykernel_435784/3981863328.py:23: FutureWarning: Use `squidpy.read.visium` instead.\n",
      "  data = sc.read_visium(f\"{patient}/\")\n"
     ]
    },
    {
     "name": "stdout",
     "output_type": "stream",
     "text": [
      "P24_T2\n"
     ]
    },
    {
     "name": "stderr",
     "output_type": "stream",
     "text": [
      "/home/ozlemtuna/miniconda3/envs/jupyter_env/lib/python3.10/site-packages/anndata/_core/anndata.py:1758: UserWarning: Variable names are not unique. To make them unique, call `.var_names_make_unique`.\n",
      "  utils.warn_names_duplicates(\"var\")\n",
      "/home/ozlemtuna/miniconda3/envs/jupyter_env/lib/python3.10/site-packages/anndata/_core/anndata.py:1758: UserWarning: Variable names are not unique. To make them unique, call `.var_names_make_unique`.\n",
      "  utils.warn_names_duplicates(\"var\")\n",
      "/tmp/ipykernel_435784/3981863328.py:23: FutureWarning: Use `squidpy.read.visium` instead.\n",
      "  data = sc.read_visium(f\"{patient}/\")\n"
     ]
    },
    {
     "name": "stdout",
     "output_type": "stream",
     "text": [
      "P10_T2\n"
     ]
    },
    {
     "name": "stderr",
     "output_type": "stream",
     "text": [
      "/home/ozlemtuna/miniconda3/envs/jupyter_env/lib/python3.10/site-packages/anndata/_core/anndata.py:1758: UserWarning: Variable names are not unique. To make them unique, call `.var_names_make_unique`.\n",
      "  utils.warn_names_duplicates(\"var\")\n",
      "/home/ozlemtuna/miniconda3/envs/jupyter_env/lib/python3.10/site-packages/anndata/_core/anndata.py:1758: UserWarning: Variable names are not unique. To make them unique, call `.var_names_make_unique`.\n",
      "  utils.warn_names_duplicates(\"var\")\n",
      "/tmp/ipykernel_435784/3981863328.py:23: FutureWarning: Use `squidpy.read.visium` instead.\n",
      "  data = sc.read_visium(f\"{patient}/\")\n"
     ]
    },
    {
     "name": "stdout",
     "output_type": "stream",
     "text": [
      "P10_B1\n"
     ]
    },
    {
     "name": "stderr",
     "output_type": "stream",
     "text": [
      "/home/ozlemtuna/miniconda3/envs/jupyter_env/lib/python3.10/site-packages/anndata/_core/anndata.py:1758: UserWarning: Variable names are not unique. To make them unique, call `.var_names_make_unique`.\n",
      "  utils.warn_names_duplicates(\"var\")\n",
      "/home/ozlemtuna/miniconda3/envs/jupyter_env/lib/python3.10/site-packages/anndata/_core/anndata.py:1758: UserWarning: Variable names are not unique. To make them unique, call `.var_names_make_unique`.\n",
      "  utils.warn_names_duplicates(\"var\")\n",
      "/tmp/ipykernel_435784/3981863328.py:23: FutureWarning: Use `squidpy.read.visium` instead.\n",
      "  data = sc.read_visium(f\"{patient}/\")\n"
     ]
    },
    {
     "name": "stdout",
     "output_type": "stream",
     "text": [
      "P19_B1\n"
     ]
    },
    {
     "name": "stderr",
     "output_type": "stream",
     "text": [
      "/home/ozlemtuna/miniconda3/envs/jupyter_env/lib/python3.10/site-packages/anndata/_core/anndata.py:1758: UserWarning: Variable names are not unique. To make them unique, call `.var_names_make_unique`.\n",
      "  utils.warn_names_duplicates(\"var\")\n",
      "/home/ozlemtuna/miniconda3/envs/jupyter_env/lib/python3.10/site-packages/anndata/_core/anndata.py:1758: UserWarning: Variable names are not unique. To make them unique, call `.var_names_make_unique`.\n",
      "  utils.warn_names_duplicates(\"var\")\n",
      "/tmp/ipykernel_435784/3981863328.py:23: FutureWarning: Use `squidpy.read.visium` instead.\n",
      "  data = sc.read_visium(f\"{patient}/\")\n"
     ]
    },
    {
     "name": "stdout",
     "output_type": "stream",
     "text": [
      "P17_T2\n"
     ]
    },
    {
     "name": "stderr",
     "output_type": "stream",
     "text": [
      "/home/ozlemtuna/miniconda3/envs/jupyter_env/lib/python3.10/site-packages/anndata/_core/anndata.py:1758: UserWarning: Variable names are not unique. To make them unique, call `.var_names_make_unique`.\n",
      "  utils.warn_names_duplicates(\"var\")\n",
      "/home/ozlemtuna/miniconda3/envs/jupyter_env/lib/python3.10/site-packages/anndata/_core/anndata.py:1758: UserWarning: Variable names are not unique. To make them unique, call `.var_names_make_unique`.\n",
      "  utils.warn_names_duplicates(\"var\")\n"
     ]
    },
    {
     "name": "stdout",
     "output_type": "stream",
     "text": [
      "P16_B1\n"
     ]
    },
    {
     "name": "stderr",
     "output_type": "stream",
     "text": [
      "/tmp/ipykernel_435784/3981863328.py:23: FutureWarning: Use `squidpy.read.visium` instead.\n",
      "  data = sc.read_visium(f\"{patient}/\")\n",
      "/home/ozlemtuna/miniconda3/envs/jupyter_env/lib/python3.10/site-packages/anndata/_core/anndata.py:1758: UserWarning: Variable names are not unique. To make them unique, call `.var_names_make_unique`.\n",
      "  utils.warn_names_duplicates(\"var\")\n",
      "/home/ozlemtuna/miniconda3/envs/jupyter_env/lib/python3.10/site-packages/anndata/_core/anndata.py:1758: UserWarning: Variable names are not unique. To make them unique, call `.var_names_make_unique`.\n",
      "  utils.warn_names_duplicates(\"var\")\n"
     ]
    },
    {
     "name": "stdout",
     "output_type": "stream",
     "text": [
      "P25_T1\n"
     ]
    },
    {
     "name": "stderr",
     "output_type": "stream",
     "text": [
      "/tmp/ipykernel_435784/3981863328.py:23: FutureWarning: Use `squidpy.read.visium` instead.\n",
      "  data = sc.read_visium(f\"{patient}/\")\n",
      "/home/ozlemtuna/miniconda3/envs/jupyter_env/lib/python3.10/site-packages/anndata/_core/anndata.py:1758: UserWarning: Variable names are not unique. To make them unique, call `.var_names_make_unique`.\n",
      "  utils.warn_names_duplicates(\"var\")\n",
      "/home/ozlemtuna/miniconda3/envs/jupyter_env/lib/python3.10/site-packages/anndata/_core/anndata.py:1758: UserWarning: Variable names are not unique. To make them unique, call `.var_names_make_unique`.\n",
      "  utils.warn_names_duplicates(\"var\")\n",
      "/tmp/ipykernel_435784/3981863328.py:23: FutureWarning: Use `squidpy.read.visium` instead.\n",
      "  data = sc.read_visium(f\"{patient}/\")\n"
     ]
    },
    {
     "name": "stdout",
     "output_type": "stream",
     "text": [
      "P11_B1\n"
     ]
    },
    {
     "name": "stderr",
     "output_type": "stream",
     "text": [
      "/home/ozlemtuna/miniconda3/envs/jupyter_env/lib/python3.10/site-packages/anndata/_core/anndata.py:1758: UserWarning: Variable names are not unique. To make them unique, call `.var_names_make_unique`.\n",
      "  utils.warn_names_duplicates(\"var\")\n",
      "/home/ozlemtuna/miniconda3/envs/jupyter_env/lib/python3.10/site-packages/anndata/_core/anndata.py:1758: UserWarning: Variable names are not unique. To make them unique, call `.var_names_make_unique`.\n",
      "  utils.warn_names_duplicates(\"var\")\n",
      "/tmp/ipykernel_435784/3981863328.py:23: FutureWarning: Use `squidpy.read.visium` instead.\n",
      "  data = sc.read_visium(f\"{patient}/\")\n"
     ]
    },
    {
     "name": "stdout",
     "output_type": "stream",
     "text": [
      "P17_B2\n"
     ]
    },
    {
     "name": "stderr",
     "output_type": "stream",
     "text": [
      "/home/ozlemtuna/miniconda3/envs/jupyter_env/lib/python3.10/site-packages/anndata/_core/anndata.py:1758: UserWarning: Variable names are not unique. To make them unique, call `.var_names_make_unique`.\n",
      "  utils.warn_names_duplicates(\"var\")\n",
      "/home/ozlemtuna/miniconda3/envs/jupyter_env/lib/python3.10/site-packages/anndata/_core/anndata.py:1758: UserWarning: Variable names are not unique. To make them unique, call `.var_names_make_unique`.\n",
      "  utils.warn_names_duplicates(\"var\")\n",
      "/tmp/ipykernel_435784/3981863328.py:23: FutureWarning: Use `squidpy.read.visium` instead.\n",
      "  data = sc.read_visium(f\"{patient}/\")\n"
     ]
    },
    {
     "name": "stdout",
     "output_type": "stream",
     "text": [
      "P15_B1\n"
     ]
    },
    {
     "name": "stderr",
     "output_type": "stream",
     "text": [
      "/home/ozlemtuna/miniconda3/envs/jupyter_env/lib/python3.10/site-packages/anndata/_core/anndata.py:1758: UserWarning: Variable names are not unique. To make them unique, call `.var_names_make_unique`.\n",
      "  utils.warn_names_duplicates(\"var\")\n",
      "/home/ozlemtuna/miniconda3/envs/jupyter_env/lib/python3.10/site-packages/anndata/_core/anndata.py:1758: UserWarning: Variable names are not unique. To make them unique, call `.var_names_make_unique`.\n",
      "  utils.warn_names_duplicates(\"var\")\n",
      "/tmp/ipykernel_435784/3981863328.py:23: FutureWarning: Use `squidpy.read.visium` instead.\n",
      "  data = sc.read_visium(f\"{patient}/\")\n"
     ]
    },
    {
     "name": "stdout",
     "output_type": "stream",
     "text": [
      "P17_B1\n"
     ]
    },
    {
     "name": "stderr",
     "output_type": "stream",
     "text": [
      "/home/ozlemtuna/miniconda3/envs/jupyter_env/lib/python3.10/site-packages/anndata/_core/anndata.py:1758: UserWarning: Variable names are not unique. To make them unique, call `.var_names_make_unique`.\n",
      "  utils.warn_names_duplicates(\"var\")\n",
      "/home/ozlemtuna/miniconda3/envs/jupyter_env/lib/python3.10/site-packages/anndata/_core/anndata.py:1758: UserWarning: Variable names are not unique. To make them unique, call `.var_names_make_unique`.\n",
      "  utils.warn_names_duplicates(\"var\")\n",
      "/tmp/ipykernel_435784/3981863328.py:23: FutureWarning: Use `squidpy.read.visium` instead.\n",
      "  data = sc.read_visium(f\"{patient}/\")\n"
     ]
    },
    {
     "name": "stdout",
     "output_type": "stream",
     "text": [
      "P16_B2\n"
     ]
    },
    {
     "name": "stderr",
     "output_type": "stream",
     "text": [
      "/home/ozlemtuna/miniconda3/envs/jupyter_env/lib/python3.10/site-packages/anndata/_core/anndata.py:1758: UserWarning: Variable names are not unique. To make them unique, call `.var_names_make_unique`.\n",
      "  utils.warn_names_duplicates(\"var\")\n",
      "/home/ozlemtuna/miniconda3/envs/jupyter_env/lib/python3.10/site-packages/anndata/_core/anndata.py:1758: UserWarning: Variable names are not unique. To make them unique, call `.var_names_make_unique`.\n",
      "  utils.warn_names_duplicates(\"var\")\n",
      "/tmp/ipykernel_435784/3981863328.py:23: FutureWarning: Use `squidpy.read.visium` instead.\n",
      "  data = sc.read_visium(f\"{patient}/\")\n"
     ]
    },
    {
     "name": "stdout",
     "output_type": "stream",
     "text": [
      "P19_B2\n"
     ]
    },
    {
     "name": "stderr",
     "output_type": "stream",
     "text": [
      "/home/ozlemtuna/miniconda3/envs/jupyter_env/lib/python3.10/site-packages/anndata/_core/anndata.py:1758: UserWarning: Variable names are not unique. To make them unique, call `.var_names_make_unique`.\n",
      "  utils.warn_names_duplicates(\"var\")\n",
      "/home/ozlemtuna/miniconda3/envs/jupyter_env/lib/python3.10/site-packages/anndata/_core/anndata.py:1758: UserWarning: Variable names are not unique. To make them unique, call `.var_names_make_unique`.\n",
      "  utils.warn_names_duplicates(\"var\")\n",
      "/tmp/ipykernel_435784/3981863328.py:23: FutureWarning: Use `squidpy.read.visium` instead.\n",
      "  data = sc.read_visium(f\"{patient}/\")\n"
     ]
    },
    {
     "name": "stdout",
     "output_type": "stream",
     "text": [
      "P11_T2\n"
     ]
    },
    {
     "name": "stderr",
     "output_type": "stream",
     "text": [
      "/home/ozlemtuna/miniconda3/envs/jupyter_env/lib/python3.10/site-packages/anndata/_core/anndata.py:1758: UserWarning: Variable names are not unique. To make them unique, call `.var_names_make_unique`.\n",
      "  utils.warn_names_duplicates(\"var\")\n",
      "/home/ozlemtuna/miniconda3/envs/jupyter_env/lib/python3.10/site-packages/anndata/_core/anndata.py:1758: UserWarning: Variable names are not unique. To make them unique, call `.var_names_make_unique`.\n",
      "  utils.warn_names_duplicates(\"var\")\n",
      "/tmp/ipykernel_435784/3981863328.py:23: FutureWarning: Use `squidpy.read.visium` instead.\n",
      "  data = sc.read_visium(f\"{patient}/\")\n"
     ]
    },
    {
     "name": "stdout",
     "output_type": "stream",
     "text": [
      "P24_B1\n"
     ]
    },
    {
     "name": "stderr",
     "output_type": "stream",
     "text": [
      "/home/ozlemtuna/miniconda3/envs/jupyter_env/lib/python3.10/site-packages/anndata/_core/anndata.py:1758: UserWarning: Variable names are not unique. To make them unique, call `.var_names_make_unique`.\n",
      "  utils.warn_names_duplicates(\"var\")\n",
      "/home/ozlemtuna/miniconda3/envs/jupyter_env/lib/python3.10/site-packages/anndata/_core/anndata.py:1758: UserWarning: Variable names are not unique. To make them unique, call `.var_names_make_unique`.\n",
      "  utils.warn_names_duplicates(\"var\")\n",
      "/tmp/ipykernel_435784/3981863328.py:23: FutureWarning: Use `squidpy.read.visium` instead.\n",
      "  data = sc.read_visium(f\"{patient}/\")\n"
     ]
    },
    {
     "name": "stdout",
     "output_type": "stream",
     "text": [
      "D1_2\n"
     ]
    },
    {
     "name": "stderr",
     "output_type": "stream",
     "text": [
      "/home/ozlemtuna/miniconda3/envs/jupyter_env/lib/python3.10/site-packages/anndata/_core/anndata.py:1758: UserWarning: Variable names are not unique. To make them unique, call `.var_names_make_unique`.\n",
      "  utils.warn_names_duplicates(\"var\")\n",
      "/home/ozlemtuna/miniconda3/envs/jupyter_env/lib/python3.10/site-packages/anndata/_core/anndata.py:1758: UserWarning: Variable names are not unique. To make them unique, call `.var_names_make_unique`.\n",
      "  utils.warn_names_duplicates(\"var\")\n"
     ]
    }
   ],
   "source": [
    "map_ids = {}\n",
    "for h5_file in os.listdir(inDir):\n",
    "    if h5_file.endswith(\".h5\"):\n",
    "        patient = h5_file.replace(\"-filtered_feature_bc_matrix.h5\", \"\")\n",
    "        print(patient)\n",
    "        \n",
    "        if not os.path.exists(patient):\n",
    "            os.makedirs(patient)\n",
    "        \n",
    "        if not os.path.exists(f\"{patient}/spatial/\"):\n",
    "            os.makedirs(f\"{patient}/spatial/\")\n",
    "        \n",
    "        # move files from inDir\n",
    "        shutil.move(os.path.join(inDir, h5_file), f\"{patient}/{h5_file.replace(f'{patient}-', '')}\")\n",
    "        shutil.move(os.path.join(inDir, f\"{patient}-web_summary.html\"), f\"{patient}/spatial/{patient}-web_summary.html\")\n",
    "        shutil.move(os.path.join(inDir, f\"{patient}-spatial.tar\"), f\"{patient}/spatial/{patient}-spatial.tar\")\n",
    "        \n",
    "        # extract spatial tar\n",
    "        with tarfile.open(f\"{patient}/spatial/{patient}-spatial.tar\", \"r\") as tar:\n",
    "            tar.extractall(path=f\"{patient}/spatial/\")\n",
    "        \n",
    "        # read with scanpy\n",
    "        data = sc.read_visium(f\"{patient}/\")\n",
    "        \n",
    "        # rename the patient folder to the actual sample ID from metadata\n",
    "        os.rename(f\"{patient}/\", f\"{list(data.uns['spatial'].keys())[0]}\")\n"
   ]
  },
  {
   "cell_type": "code",
   "execution_count": null,
   "id": "08a66693-2e85-4356-942a-b9255e3d1dc4",
   "metadata": {},
   "outputs": [],
   "source": []
  }
 ],
 "metadata": {
  "kernelspec": {
   "display_name": "Python (jupyter_env)",
   "language": "python",
   "name": "jupyter_env"
  },
  "language_info": {
   "codemirror_mode": {
    "name": "ipython",
    "version": 3
   },
   "file_extension": ".py",
   "mimetype": "text/x-python",
   "name": "python",
   "nbconvert_exporter": "python",
   "pygments_lexer": "ipython3",
   "version": "3.10.16"
  }
 },
 "nbformat": 4,
 "nbformat_minor": 5
}
